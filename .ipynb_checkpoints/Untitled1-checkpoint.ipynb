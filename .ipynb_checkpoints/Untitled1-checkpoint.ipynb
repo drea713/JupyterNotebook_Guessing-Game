{
 "cells": [
  {
   "cell_type": "code",
   "execution_count": null,
   "id": "81ccc0ef",
   "metadata": {
    "scrolled": false
   },
   "outputs": [
    {
     "name": "stdout",
     "output_type": "stream",
     "text": [
      "Welcome to the Guessing Game!\n",
      "============================================================\n",
      "How to play:\n",
      "    Enter a letter to make a guess.\n",
      "    If wrong it will count against you.\n",
      "    If right the letter will show and it will not count against you!\n",
      "    You have 7 attempts before losing the game.\n",
      "    GOODLUCK!\n"
     ]
    }
   ],
   "source": [
    "import random\n",
    "\n",
    "print(\"Welcome to the Guessing Game!\")\n",
    "print(\"=\" * 60)\n",
    "print(\"\"\"How to play:\n",
    "    Enter a letter to make a guess.\n",
    "    If wrong it will count against you.\n",
    "    If right the letter will show and it will not count against you!\n",
    "    You have 7 attempts before losing the game.\n",
    "    GOODLUCK!\"\"\")\n",
    "\n",
    "words = ['Aldrick', 'Kevin', 'Antonio','Britt', 'Vito', 'Derek', \n",
    "         'Lucas', 'Natalia', 'Daniel', 'Tammie', 'Andrea', 'Huda', 'Caleb']\n",
    "random_word = random.choice(words)\n",
    "count = 0\n",
    "\n",
    "while True:                                     \n",
    "    guess = str(input(\"Guess a letter:  \"))\n",
    "    guess = guess.lower()\n",
    "\n",
    "\n",
    "    if guess in random_word:             \n",
    "        print(\"Correct, that letter is in the word!\")\n",
    "      \n",
    "    \n",
    "    else:                          \n",
    "        count += 1\n",
    "        print(\"Not in the word, attempts: %d\" % count)\n",
    "        \n",
    "        if count > 6:                   \n",
    "            print(\"You have reached max attempts, you lose.\")\n",
    "            break\n",
    "        else:\n",
    "            continue"
   ]
  }
 ],
 "metadata": {
  "kernelspec": {
   "display_name": "Python 3",
   "language": "python",
   "name": "python3"
  },
  "language_info": {
   "codemirror_mode": {
    "name": "ipython",
    "version": 3
   },
   "file_extension": ".py",
   "mimetype": "text/x-python",
   "name": "python",
   "nbconvert_exporter": "python",
   "pygments_lexer": "ipython3",
   "version": "3.9.6"
  }
 },
 "nbformat": 4,
 "nbformat_minor": 5
}
