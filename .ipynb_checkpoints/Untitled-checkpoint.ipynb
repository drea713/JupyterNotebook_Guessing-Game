{
 "cells": [
  {
   "cell_type": "code",
   "execution_count": null,
   "id": "3637a337",
   "metadata": {},
   "outputs": [
    {
     "name": "stdout",
     "output_type": "stream",
     "text": [
      "Enter  Your namedrea\n",
      "Hi (name) , Let's start the game\n",
      " ***Word Guessing Game*** \n",
      "\n",
      " You have 10 attempts to guess the word correctly .\n",
      "The word is of 5 letters. \n",
      "__ __ __ __ __\n"
     ]
    }
   ],
   "source": [
    "import random\n",
    "#list of words\n",
    "words = ['Aldrick', 'Kevin', 'Antonio','Britt', 'Vito', 'Derek', 'Lucas', 'Natalia', 'Daniel', 'Tammie', 'Andrea', 'Huda', 'Caleb']\n",
    "\n",
    "#ask Name\n",
    "name=input(\"Enter  Your name\")\n",
    "print(f\"Hi (name) , Let's start the game\")\n",
    "\n",
    "print(\" ***Word Guessing Game*** \")\n",
    "print(\"\\n You have 10 attempts to guess the word correctly .\")\n",
    "\n",
    "#list to store wrong guessed_letters\n",
    "wrong_list=[]\n",
    "\n",
    "#generate random word\n",
    "original_word=random.choice(words)\n",
    "print(f\"The word is of {len(original_word)} letters. \")\n",
    "\n",
    "#create an empty list\n",
    "guessed_word = []\n",
    "for i in range(len(original_word)):\n",
    "    guessed_word.append(\"__\")\n",
    "print(*([i for i in guessed_word]))\n",
    "c=8\n",
    "while(c):\n",
    "    c=c-1 \n",
    "    \n",
    "    #take input from user\n",
    "    guessed_letter = input(\"Guess the  letter\")\n",
    "    \n",
    "    #check if guessed_letter is an alphabet\n",
    "    if not guessed_letter.isalpha():\n",
    "        print('Guess only a letter')\n",
    "        \n",
    "    #check if guessed letter length is one or not\n",
    "    elif(len(guessed_letter)>1):\n",
    "        print('Guess only one letter...')\n",
    "        \n",
    "    #check that letter chosen by user is already guessed or not\n",
    "    elif(guessed_letter in wrong_list):\n",
    "        print('You have Already guessed this letter')\n",
    "        \n",
    "    #check if guessed_letter is matches with original_word\n",
    "    if guessed_letter in original_word:\n",
    "        for i in range(len(original_word)):\n",
    "            if original_word[i] == guessed_letter:\n",
    "                guessed_word[i]=original_word[i] \n",
    "    else:\n",
    "        \"\"\"if guessed_letter is not in original_word \n",
    "           prompt user for wrong chosen letter\"\"\"\n",
    "    print(\"You Guessed wrong letter\")\n",
    "    wrong_list.append(guessed_letter)\n",
    "    guess_word = [i for i in guessed_word]\n",
    "    guess_word = \"\".join(guess_word)\n",
    "    if original_word ==guess_word :\n",
    "        print('YAY !!, You have Got the letter ...')\n",
    "        exit(0)\n",
    "        \n",
    "    #print the guessed word\n",
    "    print(*([i for i in guessed_word]))\n",
    "    \n",
    "    #prompt user showing number of attempts left to win\n",
    "    print(f\"You have {c} attempts left\")\n",
    "    if c==0:\n",
    "        if  original_word!=guessed_word  :\n",
    "            print(f\"You lost the game ,The original Word was {original_word}\")\n",
    "            exit(0)"
   ]
  }
 ],
 "metadata": {
  "kernelspec": {
   "display_name": "Python 3",
   "language": "python",
   "name": "python3"
  },
  "language_info": {
   "codemirror_mode": {
    "name": "ipython",
    "version": 3
   },
   "file_extension": ".py",
   "mimetype": "text/x-python",
   "name": "python",
   "nbconvert_exporter": "python",
   "pygments_lexer": "ipython3",
   "version": "3.9.6"
  }
 },
 "nbformat": 4,
 "nbformat_minor": 5
}
